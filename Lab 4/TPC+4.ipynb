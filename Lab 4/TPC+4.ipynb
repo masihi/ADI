{
 "cells": [
  {
   "cell_type": "code",
   "execution_count": 3,
   "metadata": {},
   "outputs": [
    {
     "name": "stdout",
     "output_type": "stream",
     "text": [
      "1a)\n"
     ]
    },
    {
     "data": {
      "image/png": "[encoded data removed]",
      "text/plain": [
       "<matplotlib.figure.Figure at 0x7fc324f396a0>"
      ]
     },
     "metadata": {},
     "output_type": "display_data"
    },
    {
     "name": "stdout",
     "output_type": "stream",
     "text": [
      "No it's not linearly separable, because it's not possible to isolate the two patterns with a single line.\n"
     ]
    }
   ],
   "source": [
    "import numpy as np\n",
    "import matplotlib.pyplot as plt\n",
    "\n",
    "fi01 = np.array([1., 2., 3.])\n",
    "fi02 = np.array([3., 1., 1.])\n",
    "\n",
    "fi11 = np.array([2., 5.])\n",
    "fi12 = np.array([2., 4.])\n",
    "\n",
    "\n",
    "#print(fi1)\n",
    "#print(fi2)\n",
    "\n",
    "print(\"1a)\")\n",
    "\n",
    "plt.plot(fi01, fi02, '*')\n",
    "plt.plot(fi11, fi12, '+')\n",
    "plt.title(\"Plot\")\n",
    "plt.xlabel(\"fi1\")\n",
    "plt.ylabel(\"fi2\")\n",
    "plt.show()\n",
    "\n",
    "print(\"No it's not linearly separable, because it's not possible to isolate the two patterns with a single line.\")"
   ]
  },
  {
   "cell_type": "code",
   "execution_count": 4,
   "metadata": {},
   "outputs": [
    {
     "name": "stdout",
     "output_type": "stream",
     "text": [
      "1b)\n"
     ]
    }
   ],
   "source": [
    "def J(w, x, fi):\n",
    "    result = 1\n",
    "    for i in range(0, len(x)):\n",
    "        aux = (-log( 1 / (1 + math.e**( np.dot(w.T, fi1[x]) + w[0] ) )))\n",
    "        result = result * aux\n",
    "    return result\n",
    "    \n",
    "    \n",
    "    \n",
    "print(\"1b)\")\n",
    "\n"
   ]
  },
  {
   "cell_type": "code",
   "execution_count": null,
   "metadata": {},
   "outputs": [],
   "source": []
  }
 ],
 "metadata": {
  "kernelspec": {
   "display_name": "Python 3",
   "language": "python",
   "name": "python3"
  },
  "language_info": {
   "codemirror_mode": {
    "name": "ipython",
    "version": 3
   },
   "file_extension": ".py",
   "mimetype": "text/x-python",
   "name": "python",
   "nbconvert_exporter": "python",
   "pygments_lexer": "ipython3",
   "version": "3.6.4"
  }
 },
 "nbformat": 4,
 "nbformat_minor": 2
}
