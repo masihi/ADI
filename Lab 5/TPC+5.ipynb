{
 "cells": [
  {
   "cell_type": "code",
   "execution_count": 15,
   "metadata": {
    "collapsed": false
   },
   "outputs": [
    {
     "name": "stdout",
     "output_type": "stream",
     "text": [
      "1a)\n",
      "\n",
      "Q-Learning Q-values = \n",
      "[ 0.24740295  0.25259705  0.25259705  0.24740295]\n",
      "\n",
      "1b)\n",
      "\n",
      "Sarsa Q-values = \n",
      "[[ 0.32055  0.3272   0.3272   0.32055]]\n",
      "\n",
      "1c)\n",
      "\n",
      "off-policy is when an algorithm learns the value of a policy while following another, like Q-learning.\n",
      "on-policy is when as algorithm learns the value of the policy that it follows.\n"
     ]
    }
   ],
   "source": [
    "import numpy as np\n",
    "\n",
    "print(\"1a)\\n\")\n",
    "\n",
    "qt = 0.32\n",
    "c = 0.05\n",
    "\n",
    "q = np.array([\n",
    "    [0.25, 0.32, 0.32, 0.25]\n",
    "])\n",
    "\n",
    "new_q = qt + 0.1 * (c + 0.95 * min(q) - qt)\n",
    "new_q = new_q / sum(new_q)\n",
    "\n",
    "print(\"Q-Learning Q-values = \")\n",
    "print(new_q)\n",
    "\n",
    "print(\"\\n1b)\\n\")\n",
    "\n",
    "next_q = np.array([\n",
    "    [0.29, 0.36, 0.36, 0.29]\n",
    "])\n",
    "qt = 0.32\n",
    "\n",
    "new_q = qt + 0.1 * (c + 0.95*(next_q) - qt)\n",
    "\n",
    "print(\"Sarsa Q-values = \")\n",
    "print(new_q)\n",
    "\n",
    "print(\"\\n1c)\\n\")\n",
    "\n",
    "print(\"off-policy is when an algorithm learns the value of a policy while following another, like Q-learning.\")\n",
    "print(\"on-policy is when as algorithm learns the value of the policy that it follows.\")"
   ]
  },
  {
   "cell_type": "code",
   "execution_count": null,
   "metadata": {
    "collapsed": true
   },
   "outputs": [],
   "source": []
  }
 ],
 "metadata": {
  "kernelspec": {
   "display_name": "Python 3",
   "language": "python",
   "name": "python3"
  },
  "language_info": {
   "codemirror_mode": {
    "name": "ipython",
    "version": 3
   },
   "file_extension": ".py",
   "mimetype": "text/x-python",
   "name": "python",
   "nbconvert_exporter": "python",
   "pygments_lexer": "ipython3",
   "version": "3.6.0"
  }
 },
 "nbformat": 4,
 "nbformat_minor": 2
}
