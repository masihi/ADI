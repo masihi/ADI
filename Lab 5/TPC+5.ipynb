{
 "cells": [
  {
   "cell_type": "code",
   "execution_count": null,
   "metadata": {
    "collapsed": false
   },
   "outputs": [],
   "source": [
    "import numpy as np\n",
    "\n",
    "print(\"1a)\\n\")\n",
    "\n",
    "qt = 0.32\n",
    "c = 0.05\n",
    "\n",
    "q = np.array([\n",
    "    [0.25, 0.32, 0.32, 0.25]\n",
    "])\n",
    "\n",
    "next_q = np.array([\n",
    "    [0.29, 0.36, 0.36, 0.29]\n",
    "])\n",
    "\n",
    "new_q = qt + 0.1 * (c + 0.95 * np.min(next_q) - qt)\n",
    "#new_q = new_q / sum(new_q)\n",
    "\n",
    "print(\"Q-Learning Q-value = %s\" % new_q)\n",
    "\n",
    "print(\"\\n1b)\\n\")\n",
    "\n",
    "\n",
    "qt = 0.32\n",
    "\n",
    "new_q = qt + 0.1 * (c + 0.95*(next_q[0][2]) - qt)\n",
    "\n",
    "print(\"Sarsa Q-value = %s\" % new_q)\n",
    "\n",
    "print(\"\\n1c)\\n\")\n",
    "\n",
    "print(\"Off-policy is when an algorithm learns the value of a policy while following another, like Q-learning.\")\n",
    "print(\"On-policy is when as algorithm learns the value of the policy that it follows.\")\n",
    "print(\"The Q-learning algorithm always finds the optimal policy, whereas the Sarsa algorithm improves the policy it is following.\")\n",
    "print(\"Comparing with the values obtained the Q-value of Q-learning is better than Sarsa. Because Q-learning explores all the possibilities.\")"
   ]
  },
  {
   "cell_type": "code",
   "execution_count": null,
   "metadata": {
    "collapsed": true
   },
   "outputs": [],
   "source": []
  }
 ],
 "metadata": {
  "kernelspec": {
   "display_name": "Python 3",
   "language": "python",
   "name": "python3"
  },
  "language_info": {
   "codemirror_mode": {
    "name": "ipython",
    "version": 3
   },
   "file_extension": ".py",
   "mimetype": "text/x-python",
   "name": "python",
   "nbconvert_exporter": "python",
   "pygments_lexer": "ipython3",
   "version": "3.6.0"
  }
 },
 "nbformat": 4,
 "nbformat_minor": 2
}
