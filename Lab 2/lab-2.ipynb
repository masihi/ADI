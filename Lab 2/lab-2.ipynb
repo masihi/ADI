{
 "cells": [
  {
   "cell_type": "markdown",
   "metadata": {},
   "source": [
    "# Learning and Decision Making"
   ]
  },
  {
   "cell_type": "markdown",
   "metadata": {},
   "source": [
    "## Laboratory 2: Markov chains\n",
    "\n",
    "In the end of the lab, you should submit all code/answers written in the tasks marked as \"Activity n. XXX\", together with the corresponding outputs and any replies to specific questions posed to the e-mail <adi.tecnico@gmail.com>. Make sure that the subject is of the form [&lt;group n.&gt;] LAB &lt;lab n.&gt;.\n",
    "\n",
    "### 1. Modeling\n",
    "\n",
    "Consider once again the simplified Trivial game described in the Homework and for which you wrote a Markov chain model:\n",
    "\n",
    "<img src=\"trivial.png\" width=\"400px\">\n",
    "\n",
    "Recall that your chain should describe a single player, where: \n",
    "\n",
    "* The player rolls a single die in each play; \n",
    "* At each intersection, the player continues along any of the possible intersecting paths with equal probability. "
   ]
  },
  {
   "cell_type": "markdown",
   "metadata": {},
   "source": [
    "---\n",
    "\n",
    "#### Activity 1.        \n",
    "\n",
    "Implement your Markov chain model in Python. In particular,\n",
    "\n",
    "* Create a list with all the states;\n",
    "* Define a `numpy` array with the corresponding transition probabilities.\n",
    "\n",
    "The order for the states used in the transition probability matrix should match that in the list of states. \n",
    "\n",
    "**Note 1**: Don't forget to import `numpy`. If you need additional matrix operations (such as matrix powers or eigenvalues and eigenvectors), you may also import the library `numpy.linalg`.\n",
    "\n",
    "**Note 2**: Make sure to print the result in the end.\n",
    "\n",
    "---"
   ]
  },
  {
   "cell_type": "code",
   "execution_count": 48,
   "metadata": {
    "collapsed": false
   },
   "outputs": [
    {
     "name": "stdout",
     "output_type": "stream",
     "text": [
      "{'VFO', 'AFC', 'VD', 'AFO', 'VFC', 'RD', 'RFO', 'T', 'RFC', 'AD'}\n",
      "[[ 0.18518519  0.12345679  0.12345679  0.12345679  0.04320988  0.10493827\n",
      "   0.04320988  0.10493827  0.04320988  0.10493827]\n",
      " [ 0.18518519  0.12345679  0.08333333  0.08333333  0.08333333  0.06481481\n",
      "   0.08333333  0.06481481  0.04320988  0.18518519]\n",
      " [ 0.18518519  0.08333333  0.12345679  0.08333333  0.08333333  0.06481481\n",
      "   0.04320988  0.18518519  0.08333333  0.06481481]\n",
      " [ 0.18518519  0.08333333  0.08333333  0.12345679  0.04320988  0.18518519\n",
      "   0.08333333  0.06481481  0.08333333  0.06481481]\n",
      " [ 0.06481481  0.08333333  0.08333333  0.04320988  0.12345679  0.06481481\n",
      "   0.08333333  0.18518519  0.08333333  0.18518519]\n",
      " [ 0.10493827  0.04320988  0.04320988  0.12345679  0.04320988  0.18518519\n",
      "   0.12345679  0.10493827  0.12345679  0.10493827]\n",
      " [ 0.06481481  0.08333333  0.04320988  0.08333333  0.08333333  0.18518519\n",
      "   0.12345679  0.06481481  0.08333333  0.18518519]\n",
      " [ 0.10493827  0.04320988  0.12345679  0.04320988  0.12345679  0.10493827\n",
      "   0.04320988  0.18518519  0.12345679  0.10493827]\n",
      " [ 0.06481481  0.04320988  0.08333333  0.08333333  0.08333333  0.18518519\n",
      "   0.08333333  0.18518519  0.12345679  0.06481481]\n",
      " [ 0.10493827  0.12345679  0.04320988  0.04320988  0.12345679  0.10493827\n",
      "   0.12345679  0.10493827  0.04320988  0.18518519]]\n"
     ]
    }
   ],
   "source": [
    "import numpy as np\n",
    "\n",
    "# T = Triangulo\n",
    "# A = Azul\n",
    "# R = Rosa\n",
    "# V = Verde\n",
    "# D = Dentro\n",
    "# F = Fora\n",
    "# O = Oco\n",
    "\n",
    "\n",
    "X = {\"T\", \"AD\", \"RD\", \"VD\", \"AFC\", \"AFO\", \"VFC\", \"VFO\", \"RFC\", \"RFO\"}\n",
    "\n",
    "\n",
    "\n",
    "# P1 = Probabilidade dos estados se sair 1.\n",
    "    \n",
    "P1 = np.array([\n",
    "    [0, 1./3, 1./3, 1./3, 0, 0, 0, 0, 0, 0],\n",
    "    [1./2, 0, 0, 0, 0, 0, 0, 0, 0, 1./2 ],\n",
    "    [1./2, 0, 0, 0, 0, 0, 0, 1./2, 0, 0 ],\n",
    "    [1./2, 0, 0, 0, 0, 1./2, 0, 0, 0, 0 ],\n",
    "    [0, 0, 0, 0, 0, 0, 0, 1./2, 0, 1./2 ],\n",
    "    [0, 0, 0, 1./3, 0, 0, 1./3, 0, 1./3, 0 ],\n",
    "    [0, 0, 0, 0, 0, 1./2, 0, 0, 0, 1./2 ],\n",
    "    [0, 0, 1./3, 0, 1./3, 0, 0, 0, 1./3, 0 ],\n",
    "    [0, 0, 0, 0, 0, 1./2, 0, 1./2, 0, 0 ],\n",
    "    [0, 1./3, 0, 0, 1./3, 0, 1./3, 0, 0, 0 ]\n",
    "])\n",
    "\n",
    "P2 = np.linalg.matrix_power(P1, 2)\n",
    "P3 = np.linalg.matrix_power(P1, 3)\n",
    "P4 = np.linalg.matrix_power(P1, 4)\n",
    "P5 = np.linalg.matrix_power(P1, 5)\n",
    "P6 = np.linalg.matrix_power(P1, 6)\n",
    "\n",
    "# P = Matriz de probabilidades\n",
    "\n",
    "P = (P1 + P2 + P3 + P4 + P5 + P6)*(1./6)\n",
    "\n",
    "print(X)\n",
    "print(P)"
   ]
  },
  {
   "cell_type": "markdown",
   "metadata": {},
   "source": [
    "---\n",
    "\n",
    "#### Activity 2.\n",
    "\n",
    "Compute the probability of the following trajectories:\n",
    "\n",
    "* \"Pink with pie piece\" - \"Green in outer rim\" - \"Blue with pie slice\" - \"Pink in outer rim\"\n",
    "* \"Pink with pie piece\" - \"Pink with pie piece\" - \"Blue in outer rim\"\n",
    "* \"Center\" - \"Pink with pie piece\" - \"Blue in outer rim\"\n",
    "\n",
    "**Note:** Make sure to print the result in the end.\n",
    "\n",
    "---"
   ]
  },
  {
   "cell_type": "code",
   "execution_count": 49,
   "metadata": {
    "collapsed": false
   },
   "outputs": [
    {
     "name": "stdout",
     "output_type": "stream",
     "text": [
      "0.00282251463474\n",
      "0.0228623685414\n",
      "0.0129553421734\n"
     ]
    }
   ],
   "source": [
    "#P[VFC|RFO]P[AFO|VFC]P[RFC|AFO]\n",
    "\n",
    "print(P[9,6]*P[6,5]*P[5,8])\n",
    "\n",
    "#P[RFO|RFO]*P[AFC|RFO]\n",
    "\n",
    "print(P[9,9]*P[9,4])\n",
    "\n",
    "#P[RFO|T]*P[AFC|RFO]\n",
    "\n",
    "print(P[0,9]*P[9,4])\n",
    "\n"
   ]
  },
  {
   "cell_type": "markdown",
   "metadata": {},
   "source": [
    "### 2. Stability"
   ]
  },
  {
   "cell_type": "markdown",
   "metadata": {},
   "source": [
    "---\n",
    "\n",
    "#### Activity 3.\n",
    "\n",
    "Justify whether the chain implemented in Activity #1 is:\n",
    "\n",
    "* Irreducible\n",
    "* Aperiodic\n",
    "* Ergodic\n",
    "\n",
    "---"
   ]
  },
  {
   "cell_type": "markdown",
   "metadata": {},
   "source": [
    "Irreducible?\n",
    "\n",
    "Yes. If we look at the probability matrix we see that all transitions have a probability bigger than 0. This means that is is possible to reach any state from any state in just one throw of the dice.\n",
    "\n",
    "Aperiodic?\n",
    "\n",
    "Yes. Looking again at the probability matrix, all transitions have a probability greater than 0, which means that you can reach any state starting from any state with just one move. This means that the gcd of all states is 1, and that all the states are aperiodic. So the chain is aperiodic.\n",
    "\n",
    "Ergodic?\n",
    "\n",
    "Yes. Since the chain is aperiodic and irreducible, there is a stationary distribution. Since Ergodic chains eventually reach a stationary distribution the chain is Ergodic.\n"
   ]
  },
  {
   "cell_type": "markdown",
   "metadata": {},
   "source": [
    "---\n",
    "\n",
    "#### Activity 4\n",
    "\n",
    "Compute the stationary distribution for the chain.\n",
    "\n",
    "**Note:** The stationary distribution is a *left* eigenvector of the transition probability matrix associated to the eigenvalue 1. As such, you may find useful the numpy function `numpy.linalg.eig`. Also, recall that the stationary distribution is *a distribution*.\n",
    "\n",
    "---"
   ]
  },
  {
   "cell_type": "code",
   "execution_count": 50,
   "metadata": {
    "collapsed": false
   },
   "outputs": [
    {
     "name": "stdout",
     "output_type": "stream",
     "text": [
      "[ 0.38729833  0.25819889  0.25819889  0.25819889  0.25819889  0.38729833\n",
      "  0.25819889  0.38729833  0.25819889  0.38729833]\n",
      "[ 0.125       0.08333333  0.08333333  0.08333333  0.08333333  0.125\n",
      "  0.08333333  0.125       0.08333333  0.125     ]\n",
      "0.322748612184\n"
     ]
    }
   ],
   "source": [
    "w, vector = np.linalg.eig(P.T)\n",
    "print(np.real(vector[:,0]))\n",
    "norma=np.linalg.norm(vector[:,0])\n",
    "normvector=np.real(vector[:,0]/vector[:,0].sum())\n",
    "print(normvector)\n",
    "print(np.linalg.norm(normvector))\n",
    "\n",
    "def normalizeVector(vector):\n",
    "    normvector=np.real(vector[:,0]/vector[:,0].sum())\n",
    "    return normvector\n"
   ]
  },
  {
   "cell_type": "markdown",
   "metadata": {},
   "source": [
    "### 3. Simulation\n",
    "\n",
    "You are now going to *simulate* the Markov chain that you defined in Question #1."
   ]
  },
  {
   "cell_type": "markdown",
   "metadata": {},
   "source": [
    "---\n",
    "\n",
    "#### Activity 5\n",
    "\n",
    "Generate a 10,000-step long trajectory of the chain defined in Activity #1. \n",
    "\n",
    "---"
   ]
  },
  {
   "cell_type": "code",
   "execution_count": 51,
   "metadata": {
    "collapsed": false
   },
   "outputs": [
    {
     "name": "stdout",
     "output_type": "stream",
     "text": [
      "[[8]\n",
      " [6]\n",
      " [7]\n",
      " ..., \n",
      " [8]\n",
      " [4]\n",
      " [5]]\n"
     ]
    }
   ],
   "source": [
    "from random import randint\n",
    "\n",
    "trajectory = np.zeros( (10000, 1), dtype=np.int8 )\n",
    "probs = [P1, P2, P3, P4, P5, P6]\n",
    "state = 0\n",
    "\n",
    "\n",
    "for i in range(0, 10000):\n",
    "    dice = randint(1, 6)\n",
    "    vector = probs[dice-1][state]\n",
    "    state = np.random.choice(10, 1, vector.all())[0]\n",
    "    trajectory[i] = state\n",
    "\n",
    "print(trajectory)\n"
   ]
  },
  {
   "cell_type": "markdown",
   "metadata": {},
   "source": [
    "---\n",
    "\n",
    "#### Activity 6\n",
    "\n",
    "Draw a histogram of the trajectory generated in Activity #5. Make sure that the histogram has one bin for each state. Compare the relative frequencies with the result of Activity #4.\n",
    "\n",
    "**Note**: Don't forget to load `matplotlib`.\n",
    "\n",
    "---"
   ]
  },
  {
   "cell_type": "code",
   "execution_count": 52,
   "metadata": {
    "collapsed": false
   },
   "outputs": [
    {
     "data": {
      "image/png": "[encoded data removed]",
      "text/plain": [
       "<matplotlib.figure.Figure at 0x27bd455d940>"
      ]
     },
     "metadata": {},
     "output_type": "display_data"
    }
   ],
   "source": [
    "import numpy as np\n",
    "import matplotlib.pyplot as plt\n",
    "\n",
    "\n",
    "plt.hist(trajectory, bins=10)\n",
    "plt.title(\"Histogram\")\n",
    "plt.xlabel(\"Value\")\n",
    "plt.ylabel(\"Frequency\")\n",
    "plt.show()"
   ]
  },
  {
   "cell_type": "markdown",
   "metadata": {},
   "source": [
    "_Provide your answer here (double click to edit)._"
   ]
  }
 ],
 "metadata": {
  "kernelspec": {
   "display_name": "Python 3",
   "language": "python",
   "name": "python3"
  },
  "language_info": {
   "codemirror_mode": {
    "name": "ipython",
    "version": 3
   },
   "file_extension": ".py",
   "mimetype": "text/x-python",
   "name": "python",
   "nbconvert_exporter": "python",
   "pygments_lexer": "ipython3",
   "version": "3.6.0"
  }
 },
 "nbformat": 4,
 "nbformat_minor": 2
}
