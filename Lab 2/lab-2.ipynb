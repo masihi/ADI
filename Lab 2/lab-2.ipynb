{
 "cells": [
  {
   "cell_type": "markdown",
   "metadata": {},
   "source": [
    "# Learning and Decision Making"
   ]
  },
  {
   "cell_type": "markdown",
   "metadata": {},
   "source": [
    "## Laboratory 2: Markov chains\n",
    "\n",
    "In the end of the lab, you should submit all code/answers written in the tasks marked as \"Activity n. XXX\", together with the corresponding outputs and any replies to specific questions posed to the e-mail <adi.tecnico@gmail.com>. Make sure that the subject is of the form [&lt;group n.&gt;] LAB &lt;lab n.&gt;.\n",
    "\n",
    "### 1. Modeling\n",
    "\n",
    "Consider once again the simplified Trivial game described in the Homework and for which you wrote a Markov chain model:\n",
    "\n",
    "<img src=\"trivial.png\" width=\"400px\">\n",
    "\n",
    "Recall that your chain should describe a single player, where: \n",
    "\n",
    "* The player rolls a single die in each play; \n",
    "* At each intersection, the player continues along any of the possible intersecting paths with equal probability. "
   ]
  },
  {
   "cell_type": "markdown",
   "metadata": {},
   "source": [
    "---\n",
    "\n",
    "#### Activity 1.        \n",
    "\n",
    "Implement your Markov chain model in Python. In particular,\n",
    "\n",
    "* Create a list with all the states;\n",
    "* Define a `numpy` array with the corresponding transition probabilities.\n",
    "\n",
    "The order for the states used in the transition probability matrix should match that in the list of states. \n",
    "\n",
    "**Note 1**: Don't forget to import `numpy`. If you need additional matrix operations (such as matrix powers or eigenvalues and eigenvectors), you may also import the library `numpy.linalg`.\n",
    "\n",
    "**Note 2**: Make sure to print the result in the end.\n",
    "\n",
    "---"
   ]
  },
  {
   "cell_type": "code",
   "execution_count": 4,
   "metadata": {},
   "outputs": [
    {
     "name": "stdout",
     "output_type": "stream",
     "text": [
      "[[0.18518519 0.12345679 0.12345679 0.12345679 0.04320988 0.10493827\n",
      "  0.04320988 0.10493827 0.04320988 0.10493827]\n",
      " [0.18518519 0.12345679 0.08333333 0.08333333 0.08333333 0.06481481\n",
      "  0.08333333 0.06481481 0.04320988 0.18518519]\n",
      " [0.18518519 0.08333333 0.12345679 0.08333333 0.08333333 0.06481481\n",
      "  0.04320988 0.18518519 0.08333333 0.06481481]\n",
      " [0.18518519 0.08333333 0.08333333 0.12345679 0.04320988 0.18518519\n",
      "  0.08333333 0.06481481 0.08333333 0.06481481]\n",
      " [0.06481481 0.08333333 0.08333333 0.04320988 0.12345679 0.06481481\n",
      "  0.08333333 0.18518519 0.08333333 0.18518519]\n",
      " [0.10493827 0.04320988 0.04320988 0.12345679 0.04320988 0.18518519\n",
      "  0.12345679 0.10493827 0.12345679 0.10493827]\n",
      " [0.06481481 0.08333333 0.04320988 0.08333333 0.08333333 0.18518519\n",
      "  0.12345679 0.06481481 0.08333333 0.18518519]\n",
      " [0.10493827 0.04320988 0.12345679 0.04320988 0.12345679 0.10493827\n",
      "  0.04320988 0.18518519 0.12345679 0.10493827]\n",
      " [0.06481481 0.04320988 0.08333333 0.08333333 0.08333333 0.18518519\n",
      "  0.08333333 0.18518519 0.12345679 0.06481481]\n",
      " [0.10493827 0.12345679 0.04320988 0.04320988 0.12345679 0.10493827\n",
      "  0.12345679 0.10493827 0.04320988 0.18518519]]\n"
     ]
    }
   ],
   "source": [
    "import numpy as np\n",
    "\n",
    "# T = Triangulo\n",
    "# A = Azul\n",
    "# R = Rosa\n",
    "# V = Verde\n",
    "# D = Dentro\n",
    "# F = Fora\n",
    "# O = Oco\n",
    "\n",
    "\n",
    "X = {\"T\", \"AD\", \"RD\", \"VD\", \"AFC\", \"AFO\", \"VFC\", \"VFO\", \"RFC\", \"RFO\"}\n",
    "\n",
    "\n",
    "\n",
    "# P1 = Probabilidade dos estados se sair 1.\n",
    "    \n",
    "P1 = np.array([\n",
    "    [0, 1./3, 1./3, 1./3, 0, 0, 0, 0, 0, 0],\n",
    "    [1./2, 0, 0, 0, 0, 0, 0, 0, 0, 1./2 ],\n",
    "    [1./2, 0, 0, 0, 0, 0, 0, 1./2, 0, 0 ],\n",
    "    [1./2, 0, 0, 0, 0, 1./2, 0, 0, 0, 0 ],\n",
    "    [0, 0, 0, 0, 0, 0, 0, 1./2, 0, 1./2 ],\n",
    "    [0, 0, 0, 1./3, 0, 0, 1./3, 0, 1./3, 0 ],\n",
    "    [0, 0, 0, 0, 0, 1./2, 0, 0, 0, 1./2 ],\n",
    "    [0, 0, 1./3, 0, 1./3, 0, 0, 0, 1./3, 0 ],\n",
    "    [0, 0, 0, 0, 0, 1./2, 0, 1./2, 0, 0 ],\n",
    "    [0, 1./3, 0, 0, 1./3, 0, 1./3, 0, 0, 0 ]\n",
    "])\n",
    "\n",
    "P2 = np.linalg.matrix_power(P1, 2)\n",
    "P3 = np.linalg.matrix_power(P1, 3)\n",
    "P4 = np.linalg.matrix_power(P1, 4)\n",
    "P5 = np.linalg.matrix_power(P1, 5)\n",
    "P6 = np.linalg.matrix_power(P1, 6)\n",
    "\n",
    "# P = Matriz de probabilidades\n",
    "\n",
    "P = (P1 + P2 + P3 + P4 + P5 + P6)*(1./6)\n",
    "\n",
    "print(P)\n",
    "\n",
    "# Pt3 = Matriz de probabilidades ao fim de 3 lançamentos"
   ]
  },
  {
   "cell_type": "markdown",
   "metadata": {},
   "source": [
    "---\n",
    "\n",
    "#### Activity 2.\n",
    "\n",
    "Compute the probability of the following trajectories:\n",
    "\n",
    "* \"Pink with pie piece\" - \"Green in outer rim\" - \"Blue with pie slice\" - \"Pink in outer rim\"\n",
    "* \"Pink with pie piece\" - \"Pink with pie piece\" - \"Blue in outer rim\"\n",
    "* \"Center\" - \"Pink with pie piece\" - \"Blue in outer rim\"\n",
    "\n",
    "**Note:** Make sure to print the result in the end.\n",
    "\n",
    "---"
   ]
  },
  {
   "cell_type": "code",
   "execution_count": 9,
   "metadata": {},
   "outputs": [
    {
     "name": "stdout",
     "output_type": "stream",
     "text": [
      "0.0028225146347383807\n",
      "0.022862368541380886\n",
      "0.012955342173449166\n"
     ]
    }
   ],
   "source": [
    "#P[VFC|RFO]P[AFO|VFC]P[RFC|AFO]\n",
    "\n",
    "print(P[9,6]*P[6,5]*P[5,8])\n",
    "\n",
    "#P[RFO|RFO]*P[AFC|RFO]\n",
    "\n",
    "print(P[9,9]*P[9,4])\n",
    "\n",
    "#P[RFO|T]*P[AFC|RFO]\n",
    "\n",
    "print(P[0,9]*P[9,4])\n",
    "\n"
   ]
  },
  {
   "cell_type": "markdown",
   "metadata": {},
   "source": [
    "### 2. Stability"
   ]
  },
  {
   "cell_type": "markdown",
   "metadata": {},
   "source": [
    "---\n",
    "\n",
    "#### Activity 3.\n",
    "\n",
    "Justify whether the chain implemented in Activity #1 is:\n",
    "\n",
    "* Irreducible\n",
    "* Aperiodic\n",
    "* Ergodic\n",
    "\n",
    "---"
   ]
  },
  {
   "cell_type": "markdown",
   "metadata": {},
   "source": [
    "The chain is Irreducible since any state can be reached from any other state. Furthermore, If there was a state that couldn't be reached there would be a zero probability on the Probability Matrix.\n",
    "The chain is Aperiodic since the P[x|x]>0 for any x, x belongs X, X = {\"T\", \"AD\", \"RD\", \"VD\", \"AFC\", \"AFO\", \"VFC\", \"VFO\", \"RFC\", \"RFO\"} \n",
    "Since the chain is aperiodic and irreducible, there is a stationary distribution. Since Ergodic chains eventually reach a stationary distribution the chain is Ergodic."
   ]
  },
  {
   "cell_type": "markdown",
   "metadata": {},
   "source": []
  },
  {
   "cell_type": "code",
   "execution_count": 24,
   "metadata": {},
   "outputs": [
    {
     "name": "stdout",
     "output_type": "stream",
     "text": [
      "[0.38729833 0.25819889 0.25819889 0.25819889 0.25819889 0.38729833\n",
      " 0.25819889 0.38729833 0.25819889 0.38729833]\n",
      "[0.125      0.08333333 0.08333333 0.08333333 0.08333333 0.125\n",
      " 0.08333333 0.125      0.08333333 0.125     ]\n",
      "0.3227486121839514\n"
     ]
    }
   ],
   "source": [
    "w, vector = np.linalg.eig(P.T)\n",
    "print(np.real(vector[:,0]))\n",
    "norma=np.linalg.norm(vector[:,0])\n",
    "normvector=np.real(vector[:,0]/vector[:,0].sum())\n",
    "print(normvector)\n",
    "print(np.linalg.norm(normvector))"
   ]
  },
  {
   "cell_type": "markdown",
   "metadata": {},
   "source": [
    "### 3. Simulation\n",
    "\n",
    "You are now going to *simulate* the Markov chain that you defined in Question #1."
   ]
  },
  {
   "cell_type": "markdown",
   "metadata": {},
   "source": [
    "---\n",
    "\n",
    "#### Activity 5\n",
    "\n",
    "Generate a 10,000-step long trajectory of the chain defined in Activity #1. \n",
    "\n",
    "---"
   ]
  },
  {
   "cell_type": "code",
   "execution_count": 4,
   "metadata": {
    "collapsed": true
   },
   "outputs": [],
   "source": [
    "# Insert your code here"
   ]
  },
  {
   "cell_type": "markdown",
   "metadata": {},
   "source": [
    "---\n",
    "\n",
    "#### Activity 6\n",
    "\n",
    "Draw a histogram of the trajectory generated in Activity #5. Make sure that the histogram has one bin for each state. Compare the relative frequencies with the result of Activity #4.\n",
    "\n",
    "**Note**: Don't forget to load `matplotlib`.\n",
    "\n",
    "---"
   ]
  },
  {
   "cell_type": "code",
   "execution_count": 5,
   "metadata": {},
   "outputs": [],
   "source": [
    "# Insert your code here"
   ]
  },
  {
   "cell_type": "markdown",
   "metadata": {},
   "source": [
    "_Provide your answer here (double click to edit)._"
   ]
  }
 ],
 "metadata": {
  "kernelspec": {
   "display_name": "Python 3",
   "language": "python",
   "name": "python3"
  },
  "language_info": {
   "codemirror_mode": {
    "name": "ipython",
    "version": 3
   },
   "file_extension": ".py",
   "mimetype": "text/x-python",
   "name": "python",
   "nbconvert_exporter": "python",
   "pygments_lexer": "ipython3",
   "version": "3.6.4"
  }
 },
 "nbformat": 4,
 "nbformat_minor": 2
}
