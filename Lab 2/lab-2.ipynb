{
 "cells": [
  {
   "cell_type": "markdown",
   "metadata": {},
   "source": [
    "# Learning and Decision Making"
   ]
  },
  {
   "cell_type": "markdown",
   "metadata": {},
   "source": [
    "## Laboratory 3: Markov decision problems\n",
    "\n",
    "In the end of the lab, you should submit all code/answers written in the tasks marked as \"Activity n. XXX\", together with the corresponding outputs and any replies to specific questions posed to the e-mail <adi.tecnico@gmail.com>. Make sure that the subject is of the form [&lt;group n.&gt;] LAB &lt;lab n.&gt;.\n",
    "\n",
    "### 1. Modeling\n",
    "\n",
    "Consider once again the knight domain described in the Homework and which you described as a Markov decision process.\n",
    "\n",
    "<img src=\"knight.png\" width=\"200px\">\n",
    "\n",
    "Recall that:\n",
    "\n",
    "* At each step, the knight may move in any of the four directions---up, down, left and right. \n",
    "\n",
    "* The movement succeeds with a 0.6 probability and fails with a 0.4 probability. When the movement fails, the knight may stay in the same cell or move to one of the immediately adjacent cells (if there is one) with equal probability.\n",
    "\n",
    "* The goal of the knight is to save (reach) the princess and avoid the dragon.\n",
    "\n",
    "**Throughout the lab, use $\\gamma=0.99$.**"
   ]
  },
  {
   "cell_type": "markdown",
   "metadata": {},
   "source": [
    "---\n",
    "\n",
    "#### Activity 1.        \n",
    "\n",
    "Implement your Markov decision process in Python. In particular,\n",
    "\n",
    "* Create a list with all the states;\n",
    "* Create a list with all the actions;\n",
    "* For each action, define a `numpy` array with the corresponding transition probabilities;\n",
    "* Define a `numpy`array with the costs. Make sure that:\n",
    "    * The costs lie in the interval [0, 1]\n",
    "    * The cost for standing in the princess's cell is minimal\n",
    "    * The cost for standing in the dragon's cell is maximal\n",
    "    * The costs for the intermediate cells are around 1/5 of those of standing in the dragon's cell\n",
    "\n",
    "The order for the states and actions used in the transition probability and cost matrices should match that in the lists of states and actions. \n",
    "\n",
    "**Note**: Don't forget to import `numpy`.\n",
    "\n",
    "---"
   ]
  },
  {
   "cell_type": "code",
   "execution_count": 1,
   "metadata": {
    "collapsed": false,
    "raw_mimetype": "text/x-python"
   },
   "outputs": [
    {
     "name": "stdout",
     "output_type": "stream",
     "text": [
      "X: {1, 2, 3, 4, 5, 6}\n",
      "A: {'R', 'D', 'L', 'U'}\n",
      "\n",
      "PU=\n",
      "[[ 0.8  0.1  0.   0.1  0.   0. ]\n",
      " [ 0.1  0.7  0.1  0.   0.1  0. ]\n",
      " [ 0.   0.1  0.8  0.   0.   0.1]\n",
      " [ 0.6  0.   0.   0.3  0.1  0. ]\n",
      " [ 0.   0.6  0.   0.1  0.2  0.1]\n",
      " [ 0.   0.   0.6  0.   0.1  0.3]]\n",
      "\n",
      "PD=\n",
      "[[ 0.3  0.1  0.   0.6  0.   0. ]\n",
      " [ 0.1  0.2  0.1  0.   0.6  0. ]\n",
      " [ 0.   0.1  0.3  0.   0.   0.6]\n",
      " [ 0.1  0.   0.   0.8  0.1  0. ]\n",
      " [ 0.   0.1  0.   0.1  0.7  0.1]\n",
      " [ 0.   0.   0.1  0.   0.1  0.8]]\n",
      "\n",
      "PL=\n",
      "[[ 0.8  0.1  0.   0.1  0.   0. ]\n",
      " [ 0.6  0.2  0.1  0.   0.1  0. ]\n",
      " [ 0.   0.6  0.3  0.   0.   0.1]\n",
      " [ 0.1  0.   0.   0.8  0.1  0. ]\n",
      " [ 0.   0.1  0.   0.6  0.2  0.1]\n",
      " [ 0.   0.   0.1  0.   0.6  0.3]]\n",
      "\n",
      "PR=\n",
      "[[ 0.3  0.6  0.   0.1  0.   0. ]\n",
      " [ 0.1  0.2  0.6  0.   0.1  0. ]\n",
      " [ 0.   0.1  0.8  0.   0.   0.1]\n",
      " [ 0.1  0.   0.   0.3  0.6  0. ]\n",
      " [ 0.   0.1  0.   0.1  0.2  0.6]\n",
      " [ 0.   0.   0.1  0.   0.1  0.8]]\n",
      "\n",
      "C=\n",
      "[[ 0.2  0.2  0.2  0.2]\n",
      " [ 0.2  0.2  0.2  0.2]\n",
      " [ 0.2  0.2  0.2  0.2]\n",
      " [ 0.2  0.2  0.2  0.2]\n",
      " [ 1.   1.   1.   1. ]\n",
      " [ 0.   0.   0.   0. ]]\n"
     ]
    }
   ],
   "source": [
    "import numpy as np\n",
    "\n",
    "X = {1, 2, 3, 4, 5, 6}\n",
    "\n",
    "A = {\"U\", \"D\", \"L\", \"R\"}\n",
    "\n",
    "print(\"X:\", X)\n",
    "print(\"A: %s\\n\" % (A))\n",
    "\n",
    "\n",
    "PU = np.array([\n",
    "    [0.8, 0.1, 0, 0.1, 0, 0],\n",
    "    [0.1, 0.7, 0.1, 0, 0.1, 0],\n",
    "    [0, 0.1, 0.8, 0, 0, 0.1],\n",
    "    [0.6, 0, 0, 0.3, 0.1, 0],\n",
    "    [0, 0.6, 0, 0.1, 0.2, 0.1],\n",
    "    [0, 0, 0.6, 0, 0.1, 0.3]\n",
    "])\n",
    "\n",
    "PD = np.array([\n",
    "    [0.3, 0.1, 0, 0.6, 0, 0],\n",
    "    [0.1, 0.2, 0.1, 0, 0.6, 0],\n",
    "    [0, 0.1, 0.3, 0, 0, 0.6],\n",
    "    [0.1, 0, 0, 0.8, 0.1, 0],\n",
    "    [0, 0.1, 0, 0.1, 0.7, 0.1],\n",
    "    [0, 0, 0.1, 0, 0.1, 0.8]\n",
    "])\n",
    "\n",
    "PL = np.array([\n",
    "    [0.8, 0.1, 0, 0.1, 0, 0],\n",
    "    [0.6, 0.2, 0.1, 0, 0.1, 0],\n",
    "    [0, 0.6, 0.3, 0, 0, 0.1],\n",
    "    [0.1, 0, 0, 0.8, 0.1, 0],\n",
    "    [0, 0.1, 0, 0.6, 0.2, 0.1],\n",
    "    [0, 0, 0.1, 0, 0.6, 0.3]\n",
    "])\n",
    "\n",
    "PR = np.array([\n",
    "    [0.3, 0.6, 0, 0.1, 0, 0],\n",
    "    [0.1, 0.2, 0.6, 0, 0.1, 0],\n",
    "    [0, 0.1, 0.8, 0, 0, 0.1],\n",
    "    [0.1, 0, 0, 0.3, 0.6, 0],\n",
    "    [0, 0.1, 0, 0.1, 0.2, 0.6],\n",
    "    [0, 0, 0.1, 0, 0.1, 0.8]\n",
    "])\n",
    "\n",
    "print(\"PU=\")\n",
    "print(PU)\n",
    "print(\"\\nPD=\")\n",
    "print(PD)\n",
    "print(\"\\nPL=\")\n",
    "print(PL)\n",
    "print(\"\\nPR=\")\n",
    "print(PR)\n",
    "\n",
    "\n",
    "C = np.array([\n",
    "    [.2, .2, .2, .2],\n",
    "    [.2, .2, .2, .2],\n",
    "    [.2, .2, .2, .2],\n",
    "    [.2, .2, .2, .2],\n",
    "    [1, 1, 1, 1],\n",
    "    [0, 0, 0, 0]\n",
    "])\n",
    "\n",
    "print(\"\\nC=\\n%s\" % C)\n"
   ]
  },
  {
   "cell_type": "markdown",
   "metadata": {},
   "source": [
    "### 2. Prediction\n",
    "\n",
    "You are now going to evaluate a given policy, computing the corresponding cost-to-go."
   ]
  },
  {
   "cell_type": "markdown",
   "metadata": {
    "raw_mimetype": "text/latex"
   },
   "source": [
    "---\n",
    "\n",
    "#### Activity 2.\n",
    "\n",
    "Describe the policy that, in each state $x$, always moves the knight to the cell closest to the princess (irrespectively of the dragon). If multiple such cells exist, the knight should select randomly between the two.\n",
    "\n",
    "For example, suppose that the knight is in cell 1. The knight should then select randomly between the actions _D_ and _R_. Conversely, suppose that the knight is in cell 4. The knight should then select actions _R_ with probability 1.\n",
    "\n",
    "**Note:** The policy should be described as a vector with as many rows as there are states and as many columns as there are actions, where the entry _xa_ has the probability of selecting action _a_ in state _x_.\n",
    "\n",
    "---"
   ]
  },
  {
   "cell_type": "code",
   "execution_count": 2,
   "metadata": {
    "collapsed": false
   },
   "outputs": [
    {
     "name": "stdout",
     "output_type": "stream",
     "text": [
      "\n",
      "Policy=\n",
      "[[ 0.   0.5  0.   0.5]\n",
      " [ 0.   0.5  0.   0.5]\n",
      " [ 0.   1.   0.   0. ]\n",
      " [ 0.   0.   0.   1. ]\n",
      " [ 0.   0.   0.   1. ]\n",
      " [ 0.   0.5  0.   0.5]]\n"
     ]
    }
   ],
   "source": [
    "Policy = np.array([\n",
    "    [0., 0.5, 0., 0.5],\n",
    "    [0., 0.5, 0., 0.5],\n",
    "    [0., 1., 0., 0.],\n",
    "    [0., 0., 0., 1.],\n",
    "    [0., 0., 0., 1.],\n",
    "    [0., 0.5, 0., 0.5]\n",
    "])\n",
    "\n",
    "print(\"\\nPolicy=\\n%s\" % Policy)"
   ]
  },
  {
   "cell_type": "markdown",
   "metadata": {},
   "source": [
    "---\n",
    "\n",
    "#### Activity 3.\n",
    "\n",
    "Compute the cost-to-go function $J^\\pi$ associated with the policy from Activity 2.\n",
    "\n",
    "---"
   ]
  },
  {
   "cell_type": "code",
   "execution_count": 3,
   "metadata": {
    "collapsed": false
   },
   "outputs": [
    {
     "name": "stdout",
     "output_type": "stream",
     "text": [
      "Ppi=\n",
      "[[ 0.3   0.35  0.    0.35  0.    0.  ]\n",
      " [ 0.1   0.2   0.35  0.    0.35  0.  ]\n",
      " [ 0.    0.1   0.3   0.    0.    0.6 ]\n",
      " [ 0.1   0.    0.    0.3   0.6   0.  ]\n",
      " [ 0.    0.1   0.    0.1   0.2   0.6 ]\n",
      " [ 0.    0.    0.1   0.    0.1   0.8 ]]\n",
      "\n",
      "Cpi=[ 0.2  0.2  0.2  0.2  1.   0. ]\n",
      "\n",
      "Jpi=[ 16.26056701  15.95826371  15.28584405  16.45495016  16.42766638\n",
      "  15.09441121]\n"
     ]
    }
   ],
   "source": [
    "Ppi = Policy[:, 0, None]*PU + Policy[:, 1, None]*PD + Policy[:, 2, None]*PL + Policy[:, 3, None]*PR\n",
    "\n",
    "Cpi = (Policy * C).sum(axis=1)\n",
    "\n",
    "print(\"Ppi=\\n%s\" % Ppi)\n",
    "\n",
    "print(\"\\nCpi=%s\" % Cpi)\n",
    "\n",
    "I = np.identity(6)\n",
    "gama = 0.99\n",
    "\n",
    "Jpi = np.matmul(np.linalg.inv(I - gama * Ppi), Cpi)\n",
    "\n",
    "print(\"\\nJpi=%s\" % Jpi)"
   ]
  },
  {
   "cell_type": "markdown",
   "metadata": {},
   "source": [
    "### 3. Control\n",
    "\n",
    "In this section you are going to compare value and policy iteration, both in terms of time and number of iterations."
   ]
  },
  {
   "cell_type": "markdown",
   "metadata": {},
   "source": [
    "---\n",
    "\n",
    "#### Activity 4\n",
    "\n",
    "Show that the policy in Activity 3 is _not_ optimal: use value iteration to compute $J^*$ and show that $J^*\\neq J^\\pi$. Track the time and the number of iterations taken to compute $J^*$.\n",
    "\n",
    "**Note 1:** Stop the algorithm when the error between iterations is smaller than $10^{-8}$.\n",
    "\n",
    "**Note 2:** You may find useful the function ``time()`` from the module ``time``.\n",
    "\n",
    "---"
   ]
  },
  {
   "cell_type": "code",
   "execution_count": 5,
   "metadata": {
    "collapsed": false,
    "scrolled": false
   },
   "outputs": [
    {
     "name": "stdout",
     "output_type": "stream",
     "text": [
      "time elapsed = 0.13509035110473633\n",
      "iterations = 1726\n",
      "\n",
      "[[ 14.06797074]\n",
      " [ 13.93809867]\n",
      " [ 13.67954678]\n",
      " [ 14.24800834]\n",
      " [ 14.74722471]\n",
      " [ 13.53004987]]\n"
     ]
    }
   ],
   "source": [
    "import time\n",
    "\n",
    "cu = C[:, 0, None]\n",
    "cd = C[:, 1, None]\n",
    "cl = C[:, 2, None]\n",
    "cr = C[:, 3, None]\n",
    "\n",
    "\n",
    "J = np.zeros((6, 1))\n",
    "err = 1\n",
    "i = 0\n",
    "gama = 0.99\n",
    "start = time.time()\n",
    "\n",
    "while err > 1e-8:\n",
    "    Qu = cu + gama * PU.dot(J)\n",
    "    Qd = cd + gama * PD.dot(J)\n",
    "    Ql = cl + gama * PL.dot(J)\n",
    "    Qr = cr + gama * PR.dot(J)\n",
    "    Jnew = np.min((Qu, Qd, Ql, Qr), axis=0)\n",
    "    err = np.linalg.norm(Jnew - J)\n",
    "    i += 1\n",
    "    J = Jnew\n",
    "\n",
    "end = time.time()\n",
    "t = end - start\n",
    "\n",
    "print(\"time elapsed = %s\" % t)\n",
    "print(\"iterations = %s\\n\" % i)\n",
    "print(J)"
   ]
  },
  {
   "cell_type": "markdown",
   "metadata": {},
   "source": [
    "---\n",
    "\n",
    "#### Activity 5\n",
    "\n",
    "Compute once again the optimal policy now using policy iteration. Track the time and number of iterations taken and compare to those of Activity 4.\n",
    "\n",
    "**Note:** If you find that numerical errors affect your computations (especially when comparing two values/arrays) you may use the `numpy` function `isclose` with adequately set absolute and relative tolerance parameters (e.g., $10^{-8}$).\n",
    "\n",
    "---"
   ]
  },
  {
   "cell_type": "code",
   "execution_count": null,
   "metadata": {
    "collapsed": true,
    "scrolled": false
   },
   "outputs": [],
   "source": [
    "# Insert your code here"
   ]
  },
  {
   "cell_type": "markdown",
   "metadata": {},
   "source": [
    "### 4. Simulation\n",
    "\n",
    "Finally, in this section you will check whether the theoretical computations of the cost-to-go actually correspond to the cost incurred by an agent following a policy."
   ]
  },
  {
   "cell_type": "markdown",
   "metadata": {},
   "source": [
    "---\n",
    "\n",
    "#### Activity 6\n",
    "\n",
    "Starting both in cell 1 and cell 5 in the figure, \n",
    "\n",
    "* Generate **100** trajectories of 10,000 steps each, following the optimal policy for the MDP. \n",
    "* For each trajectory, compute the accumulated (discounted) cost. \n",
    "* Compute the average cost over the 100 trajectories.\n",
    "* Compare the resulting value with that computed in Activity 4 for the two states. \n",
    "\n",
    "** Note:** The simulation may take a bit of time, don't despair ☺️.\n",
    "\n",
    "---"
   ]
  },
  {
   "cell_type": "code",
   "execution_count": null,
   "metadata": {
    "collapsed": true
   },
   "outputs": [],
   "source": [
    "# Insert your code here"
   ]
  }
 ],
 "metadata": {
  "celltoolbar": "Raw Cell Format",
  "kernelspec": {
   "display_name": "Python 3",
   "language": "python",
   "name": "python3"
  },
  "language_info": {
   "codemirror_mode": {
    "name": "ipython",
    "version": 3
   },
   "file_extension": ".py",
   "mimetype": "text/x-python",
   "name": "python",
   "nbconvert_exporter": "python",
   "pygments_lexer": "ipython3",
   "version": "3.6.0"
  }
 },
 "nbformat": 4,
 "nbformat_minor": 1
}
