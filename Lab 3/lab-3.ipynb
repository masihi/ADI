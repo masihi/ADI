{
 "cells": [
  {
   "cell_type": "markdown",
   "metadata": {},
   "source": [
    "# Learning and Decision Making"
   ]
  },
  {
   "cell_type": "markdown",
   "metadata": {},
   "source": [
    "## Laboratory 3: Partially observable Markov decision problems\n",
    "\n",
    "In the end of the lab, you should submit all code/answers written in the tasks marked as \"Activity n. XXX\", together with the corresponding outputs and any replies to specific questions posed to the e-mail <adi.tecnico@gmail.com>. Make sure that the subject is of the form [&lt;group n.&gt;] LAB &lt;lab n.&gt;."
   ]
  },
  {
   "cell_type": "markdown",
   "metadata": {},
   "source": [
    "### 1. Modeling\n",
    "\n",
    "Consider once again the princess saving problem described in the Homework and which you described as a POMDP.\n",
    "\n",
    "Recall that:\n",
    "\n",
    "* The princess can be in any one of two towers: Tower *A* and Tower *B*. The knight must decide which tower do invade to rescue the princess. \n",
    "\n",
    "* The knight can try to _peer_ at the towers, to figure out where the princess may be. \n",
    "\n",
    "* When the agent peers, it sees the princess in the right location with a probability of 0.9, and at the wrong location with probability 0.1.\n",
    "\n",
    "* Whenever the knight invades a tower, the \"world\" resets.\n",
    "\n",
    "Consider throughout that $\\gamma=0.9$."
   ]
  },
  {
   "cell_type": "markdown",
   "metadata": {},
   "source": [
    "---\n",
    "\n",
    "#### Activity 1.        \n",
    "\n",
    "Implement your POMDP in Python. In particular,\n",
    "\n",
    "* Create a list with all the states;\n",
    "* Create a list with all the actions;\n",
    "* Create a list with all the observations\n",
    "* For each action, define a `numpy` array with the corresponding transition probabilities;\n",
    "* For each action, define a `numpy` array with the corresponding observation probabilities;\n",
    "* Define a `numpy` array with the cost describing the problem. Make sure that the costs lie in the interval [0,1] and that the cost for peering is in the middle between the cost for saving and being captured.\n",
    "\n",
    "The order for the states and actions used in the transition probability and cost matrices should match that in the lists of states and actions. \n",
    "\n",
    "**Note**: Don't forget to import `numpy`.\n",
    "\n",
    "---"
   ]
  },
  {
   "cell_type": "code",
   "execution_count": 1,
   "metadata": {
    "collapsed": false,
    "scrolled": false
   },
   "outputs": [
    {
     "name": "stdout",
     "output_type": "stream",
     "text": [
      "X: {'A', 'B'}\n",
      "A: {'P', 'RA', 'RB'}\n",
      "Z: {'A', 'N', 'B'}\n",
      "\n",
      "PRB = PRA =\n",
      "[[ 0.5  0.5]\n",
      " [ 0.5  0.5]]\n",
      "\n",
      "PP =\n",
      "[[1 0]\n",
      " [0 1]]\n",
      "\n",
      "ORA = ORB =\n",
      "[[0 0 1]\n",
      " [0 0 1]]\n",
      "\n",
      "OP =\n",
      "[[ 0.9  0.1  0. ]\n",
      " [ 0.1  0.9  0. ]]\n",
      "\n",
      "C =\n",
      "[[ 0.   1.   0.1]\n",
      " [ 1.   0.   0.1]]\n"
     ]
    }
   ],
   "source": [
    "import numpy as np\n",
    "\n",
    "# RA = Raid A\n",
    "# RB = Raid B\n",
    "# P = Peer\n",
    "# N = Nothing\n",
    "\n",
    "X = {'A', 'B'}\n",
    "\n",
    "A = {'P', 'RA', 'RB'}\n",
    "\n",
    "Z = {'A', 'B', 'N'}\n",
    "\n",
    "\n",
    "print(\"X: %s\" % X)\n",
    "print(\"A: %s\" % A)\n",
    "print(\"Z: %s\" % Z)\n",
    "\n",
    "\n",
    "PRB = PRA = np.array([\n",
    "    [0.5, 0.5],\n",
    "    [0.5, 0.5]\n",
    "])\n",
    "\n",
    "PP = np.array([\n",
    "    [1, 0],\n",
    "    [0, 1]\n",
    "])\n",
    "\n",
    "ORA = ORB = np.array([\n",
    "    [0, 0, 1],\n",
    "    [0, 0, 1]\n",
    "])\n",
    "\n",
    "\n",
    "OP = np.array([\n",
    "    [0.9, 0.1, 0],\n",
    "    [0.1, 0.9, 0]\n",
    "])\n",
    "\n",
    "\n",
    "C = np.array([\n",
    "    [0, 1, 0.1],\n",
    "    [1, 0, 0.1]\n",
    "])\n",
    "\n",
    "\n",
    "\n",
    "print(\"\\nPRB = PRA =\\n%s\" % PRA)\n",
    "print(\"\\nPP =\\n%s\" % PP)\n",
    "print(\"\\nORA = ORB =\\n%s\" % ORA)\n",
    "print(\"\\nOP =\\n%s\" % OP)\n",
    "print(\"\\nC =\\n%s\" % C)"
   ]
  },
  {
   "cell_type": "markdown",
   "metadata": {},
   "source": [
    "### 2. Sampling\n",
    "\n",
    "You are now going to sample random trajectories of your POMDP and observe the impact it has on the corresponding belief."
   ]
  },
  {
   "cell_type": "markdown",
   "metadata": {
    "raw_mimetype": "text/latex"
   },
   "source": [
    "---\n",
    "\n",
    "#### Activity 2.\n",
    "\n",
    "Generate a random POMDP trajectory using a uniformly random policy. In particular, from a random initial state $x_0$ generate:\n",
    "\n",
    "1. A sequence of 10,000 states by selecting the actions uniformly at random;\n",
    "2. The corresponding sequence of 10,000 actions;\n",
    "3. The corresponding sequence of 10,000 observations.\n",
    "\n",
    "---"
   ]
  },
  {
   "cell_type": "code",
   "execution_count": 9,
   "metadata": {
    "collapsed": false
   },
   "outputs": [
    {
     "name": "stdout",
     "output_type": "stream",
     "text": [
      "[[2]\n",
      " [1]\n",
      " [2]\n",
      " ..., \n",
      " [0]\n",
      " [1]\n",
      " [1]]\n",
      "[[0]\n",
      " [0]\n",
      " [1]\n",
      " ..., \n",
      " [1]\n",
      " [1]\n",
      " [1]]\n",
      "[[0]\n",
      " [2]\n",
      " [1]\n",
      " ..., \n",
      " [2]\n",
      " [2]\n",
      " [2]]\n"
     ]
    }
   ],
   "source": [
    "states = np.zeros( (10001, 1) , dtype = np.int8)\n",
    "actions = np.zeros( (10000, 1), dtype = np.int8)\n",
    "observations = np.zeros( (10000, 1), dtype = np.int8)\n",
    "\n",
    "policy = [1./3, 1./3, 1./3]\n",
    "\n",
    "Probs = [PRA, PRB, PP]\n",
    "\n",
    "Obs = [ORA, ORB, OP]\n",
    "\n",
    "\n",
    "states[0] = np.random.choice(2, p=[1./2, 1./2])\n",
    "\n",
    "#print(states[0][0])\n",
    "#print(np.random.choice(3, p=policy))\n",
    "#print(np.random.choice(3, p=Obs[0][0]))\n",
    "\n",
    "\n",
    "for i in range(0, 10000):\n",
    "    action = np.random.choice(3, p=policy)\n",
    "    \n",
    "    actions[i] = action\n",
    "    states[i+1] = np.random.choice(2, p=Probs[action][states[i][0]])\n",
    "    observations[i] = np.random.choice(3, p=Obs[action][states[i+1][0]])\n",
    "    \n",
    "    \n",
    "    \n",
    "\n",
    "print(actions)\n",
    "print(states)\n",
    "print(observations)\n",
    "    "
   ]
  },
  {
   "cell_type": "markdown",
   "metadata": {},
   "source": [
    "---\n",
    "\n",
    "#### Activity 3.\n",
    "\n",
    "For the POMDP trajectory generated in Activity 2, compute the corresponding sequence of beliefs, assuming that the initial belief is $\\mathbf{b}_0=[0.5, 0.5]$. Report the resulting beliefs, ignoring duplicate beliefs or beliefs whose distance is smaller than $10^{-3}$.\n",
    "\n",
    "**Note 1:** You may want to define a function `belief_update` that receives a belief, an action and an observation and returns the updated belief.\n",
    "\n",
    "**Note 2:** To compute the distance between vectors, you may find useful `numpy`'s function `linalg.norm`.\n",
    "\n",
    "\n",
    "---"
   ]
  },
  {
   "cell_type": "code",
   "execution_count": 13,
   "metadata": {
    "collapsed": false,
    "scrolled": false
   },
   "outputs": [
    {
     "name": "stdout",
     "output_type": "stream",
     "text": [
      "[[0.5, 0.5], array([ 0.9,  0.1]), array([ 0.98780488,  0.01219512]), array([ 0.99863014,  0.00136986]), array([  9.99847607e-01,   1.52392563e-04]), array([ 0.1,  0.9]), array([ 0.01219512,  0.98780488]), array([ 0.00136986,  0.99863014]), array([  1.52392563e-04,   9.99847607e-01])]\n",
      "9 beliefs\n"
     ]
    }
   ],
   "source": [
    "error = 1e-3\n",
    "\n",
    "b0 = [0.5, 0.5]\n",
    "\n",
    "beliefs = []\n",
    "beliefs.append(b0)\n",
    "\n",
    "\n",
    "def belief_update(b, a, o):\n",
    "    newb = np.dot(np.dot(b, a), o) / sum(np.dot(np.dot(b, a), o))\n",
    "    return newb\n",
    "\n",
    "def check_new_belief(newb):\n",
    "    append = True\n",
    "    for b in beliefs:\n",
    "        if( np.linalg.norm(b - newb) <= error):\n",
    "            append = False\n",
    "    if(append == True):\n",
    "        beliefs.append(newb)\n",
    "\n",
    "\n",
    "for i in range(0, 10000):\n",
    "    for b in beliefs:\n",
    "        newb = belief_update(b, \n",
    "                             Probs[ actions[i][0] ], \n",
    "                             np.diag( Obs[ actions[i][0] ][ :, observations[i][0] ] ))\n",
    "        check_new_belief(newb)\n",
    "    \n",
    "    \n",
    "print(beliefs)\n",
    "print(len(beliefs), \"beliefs\")\n",
    "    \n",
    "    "
   ]
  },
  {
   "cell_type": "markdown",
   "metadata": {},
   "source": [
    "### 3. Solution methods\n",
    "\n",
    "In this section you are going to compare different non-exact solution methods."
   ]
  },
  {
   "cell_type": "markdown",
   "metadata": {},
   "source": [
    "---\n",
    "\n",
    "#### Activity 4\n",
    "\n",
    "Compute the solution for the underlying MDP and report the corresponding optimal policy and optimal cost-to-go. \n",
    "\n",
    "** Note:** You may reuse code from previous labs.\n",
    "\n",
    "---"
   ]
  },
  {
   "cell_type": "code",
   "execution_count": 30,
   "metadata": {
    "collapsed": false,
    "scrolled": false
   },
   "outputs": [
    {
     "name": "stdout",
     "output_type": "stream",
     "text": [
      "Q = \n",
      "[[ 0.   1.   0.1]\n",
      " [ 1.   0.   0.1]]\n",
      "\n",
      "pi = \n",
      "[[ 1.  0.  0.]\n",
      " [ 0.  1.  0.]]\n",
      "\n",
      "Cost-to-go =\n",
      "[ 0.  0.]\n",
      "\n"
     ]
    }
   ],
   "source": [
    "gama = 0.9\n",
    "pi = np.ones( (2,3) ) / 3\n",
    "Q = np.zeros( (2,3) )\n",
    "quit = False\n",
    "i = 0\n",
    "I = np.eye(2)\n",
    "\n",
    "\n",
    "ca = C[:,0,None]\n",
    "cb = C[:,1,None]\n",
    "cp = C[:,2,None]\n",
    "\n",
    "\n",
    "while not quit:\n",
    "    Cpi = np.diag(pi[:, 0]).dot(ca) + np.diag(pi[:, 1]).dot(cb) + np.diag(pi[:, 2]).dot(cp)\n",
    "    Ppi = np.diag(pi[:, 0]).dot(PRA) + np.diag(pi[:, 1]).dot(PRB) + np.diag(pi[:, 2]).dot(PP)\n",
    "    J = np.linalg.inv(I - gama * Ppi).dot(Cpi)\n",
    "    \n",
    "    Qa = ca + gama * PRA.dot(J)\n",
    "    Qb = cb + gama * PRB.dot(J)\n",
    "    Qp = cp + gama * PP.dot(J)\n",
    "    \n",
    "    Q[:, 0, None] = Qa\n",
    "    Q[:, 1, None] = Qb\n",
    "    Q[:, 2, None] = Qp\n",
    "    \n",
    "    pinew = np.zeros((2, 3))\n",
    "    pinew[:, 0, None] = np.isclose(Qa, np.min([Qa, Qb, Qp], axis = 0), atol=1e-8, rtol=1e-8).astype(int)\n",
    "    pinew[:, 1, None] = np.isclose(Qb, np.min([Qa, Qb, Qp], axis = 0), atol=1e-8, rtol=1e-8).astype(int)\n",
    "    pinew[:, 2, None] = np.isclose(Qp, np.min([Qa, Qb, Qp], axis = 0), atol=1e-8, rtol=1e-8).astype(int)\n",
    "    \n",
    "    pinew = pinew / np.sum(pinew, axis=1, keepdims=True)\n",
    "    \n",
    "    quit = (pi == pinew).all()\n",
    "    pi = pinew\n",
    "    i += 1\n",
    "\n",
    "    \n",
    "print(\"Q = \\n%s\\n\" % Q)\n",
    "#print(i)\n",
    "print(\"pi = \\n%s\\n\" % pi)\n",
    "\n",
    "Policy = pi\n",
    "\n",
    "Pp = Policy[:, 0, None]*PRA + Policy[:, 1, None]*PRB + Policy[:, 2, None]*PP\n",
    "Cp = (Policy * C).sum(axis=1)\n",
    "\n",
    "#print(Pp)\n",
    "#print(Cp)\n",
    "\n",
    "\n",
    "Jpi = np.dot(np.linalg.inv(I - gama * PRA), Cp)\n",
    "\n",
    "print(\"Cost-to-go =\\n%s\\n\" % Jpi)"
   ]
  },
  {
   "cell_type": "markdown",
   "metadata": {},
   "source": [
    "---\n",
    "\n",
    "#### Activity 5\n",
    "\n",
    "For each of the beliefs computed in Activity 3, compute the action prescribed by:\n",
    "\n",
    "* The MLS heuristic;\n",
    "* The AV heuristic;\n",
    "* The Q-MDP heuristic.\n",
    "\n",
    "---"
   ]
  },
  {
   "cell_type": "code",
   "execution_count": 58,
   "metadata": {
    "collapsed": false,
    "scrolled": false
   },
   "outputs": [
    {
     "name": "stdout",
     "output_type": "stream",
     "text": [
      "[[ 0.   1.   0.1]\n",
      " [ 1.   0.   0.1]]\n",
      "i = 0\n",
      "MLS([0.5, 0.5]) = 0\n",
      "AV([0.5, 0.5]) = 0\n",
      "Q_MDP([0.5, 0.5]) = 2\n",
      "i = 1\n",
      "MLS([ 0.9  0.1]) = 0\n",
      "AV([ 0.9  0.1]) = 0\n",
      "Q_MDP([ 0.9  0.1]) = 0\n",
      "i = 2\n",
      "MLS([ 0.98780488  0.01219512]) = 0\n",
      "AV([ 0.98780488  0.01219512]) = 0\n",
      "Q_MDP([ 0.98780488  0.01219512]) = 0\n",
      "i = 3\n",
      "MLS([ 0.99863014  0.00136986]) = 0\n",
      "AV([ 0.99863014  0.00136986]) = 0\n",
      "Q_MDP([ 0.99863014  0.00136986]) = 0\n",
      "i = 4\n",
      "MLS([  9.99847607e-01   1.52392563e-04]) = 0\n",
      "AV([  9.99847607e-01   1.52392563e-04]) = 0\n",
      "Q_MDP([  9.99847607e-01   1.52392563e-04]) = 0\n",
      "i = 5\n",
      "MLS([ 0.1  0.9]) = 1\n",
      "AV([ 0.1  0.9]) = 1\n",
      "Q_MDP([ 0.1  0.9]) = 1\n",
      "i = 6\n",
      "MLS([ 0.01219512  0.98780488]) = 1\n",
      "AV([ 0.01219512  0.98780488]) = 1\n",
      "Q_MDP([ 0.01219512  0.98780488]) = 1\n",
      "i = 7\n",
      "MLS([ 0.00136986  0.99863014]) = 1\n",
      "AV([ 0.00136986  0.99863014]) = 1\n",
      "Q_MDP([ 0.00136986  0.99863014]) = 1\n",
      "i = 8\n",
      "MLS([  1.52392563e-04   9.99847607e-01]) = 1\n",
      "AV([  1.52392563e-04   9.99847607e-01]) = 1\n",
      "Q_MDP([  1.52392563e-04   9.99847607e-01]) = 1\n"
     ]
    }
   ],
   "source": [
    "OptimalCost = Q\n",
    "OptimalPolicy = pi\n",
    "print(OptimalCost)\n",
    "\n",
    "mls = []\n",
    "av = []\n",
    "q_mdp = []\n",
    "\n",
    "def MLS(belief):\n",
    "    state = np.argmax(belief)\n",
    "    mls.append( np.argmax(OptimalPolicy[state]) )\n",
    "    return np.argmax(OptimalPolicy[state])\n",
    "\n",
    "def AV(belief):\n",
    "    av.append( np.argmax(np.dot(belief, OptimalPolicy)) )\n",
    "    return np.argmax(np.dot(belief, OptimalPolicy))\n",
    "    \n",
    "\n",
    "def Q_MDP(belief):\n",
    "    h = np.dot(belief, OptimalCost)\n",
    "    q_mdp.append( np.argmin(h) )\n",
    "    return np.argmin(h)\n",
    "    \n",
    "\n",
    "i = 0\n",
    "for b in beliefs:\n",
    "    print(\"i = %d\" % i)\n",
    "    print(\"MLS(%s) = %s\" % (b, MLS(b)))\n",
    "    print(\"AV(%s) = %s\" % (b, AV(b)))\n",
    "    print(\"Q_MDP(%s) = %s\" % (b, Q_MDP(b)))\n",
    "    i+=1\n",
    "    \n",
    "    "
   ]
  },
  {
   "cell_type": "markdown",
   "metadata": {},
   "source": [
    "---\n",
    "\n",
    "#### Activity 6\n",
    "\n",
    "Suppose that the optimal cost-to-go function for the POMDP can be represented using the $\\alpha$-vectors\n",
    "\n",
    "$$\n",
    "\\left\\{\n",
    "\\begin{bmatrix}\n",
    "2.795\\\\\n",
    "3.795\n",
    "\\end{bmatrix},\n",
    "\\begin{bmatrix}\n",
    "3.795\\\\\n",
    "2.795\n",
    "\\end{bmatrix},\n",
    "\\begin{bmatrix}\n",
    "3.105\\\\\n",
    "3.105\n",
    "\\end{bmatrix}\\right\\}$$\n",
    "\n",
    "corresponding to the actions 'Invade Tower A', 'Invade Tower B' and 'Peer', respectively. Represent the optimal cost-to-go function and compare the optimal policy with the MDP heuristics from Activity 5 in the beliefs computed in Activity 3.\n",
    "\n",
    "** Note: ** Don't forget to import `matplotlib`, and use the magic `%matplotlib notebook`.\n",
    "\n",
    "---"
   ]
  },
  {
   "cell_type": "code",
   "execution_count": 87,
   "metadata": {
    "collapsed": false,
    "scrolled": false
   },
   "outputs": [
    {
     "data": {
      "image/png": "[encoded data removed]",
      "text/plain": [
       "<matplotlib.figure.Figure at 0x20afe425a58>"
      ]
     },
     "metadata": {},
     "output_type": "display_data"
    },
    {
     "name": "stdout",
     "output_type": "stream",
     "text": [
      "De 0 a cerca de 0.3 que é a intersecção entre Raid A e Peer escolhe-se Raid A. Entre cerca de 0.3 a 0.7, que é a intersecção entre Peer e Raid B, deve-se escolher a acção Peer. De cerca de 0.7 a 1 deve-se escolher a acção Raid B.\n"
     ]
    }
   ],
   "source": [
    "import matplotlib.pyplot as plt\n",
    "\n",
    "OptimalCost = np.array([\n",
    "    [2.795, 3.795, 3.105],\n",
    "    [3.795, 2.795, 3.105]\n",
    "])\n",
    "\n",
    "#print(OptimalCost)\n",
    "\n",
    "\n",
    "plt.plot(OptimalCost) #, bins=10, normed=1, rwidth=0.5, range=[-0.5, 9.5])\n",
    "plt.title(\"Optimal Policy\")\n",
    "plt.xlabel(\"P(X=B)\")\n",
    "plt.ylabel(\"Actions\")\n",
    "plt.show()\n",
    "\n",
    "print(\"De 0 a cerca de 0.3 que é a intersecção entre Raid A e Peer escolhe-se Raid A. Entre cerca de 0.3 a 0.7, que é a intersecção entre Peer e Raid B, deve-se escolher a acção Peer. De cerca de 0.7 a 1 deve-se escolher a acção Raid B.\")"
   ]
  },
  {
   "cell_type": "code",
   "execution_count": 91,
   "metadata": {
    "collapsed": false
   },
   "outputs": [
    {
     "data": {
      "image/png": "[encoded data removed]",
      "text/plain": [
       "<matplotlib.figure.Figure at 0x20afe669278>"
      ]
     },
     "metadata": {},
     "output_type": "display_data"
    },
    {
     "data": {
      "image/png": "[encoded data removed]",
      "text/plain": [
       "<matplotlib.figure.Figure at 0x20afe6cfe80>"
      ]
     },
     "metadata": {},
     "output_type": "display_data"
    },
    {
     "data": {
      "image/png": "[encoded data removed]",
      "text/plain": [
       "<matplotlib.figure.Figure at 0x20afe6cfef0>"
      ]
     },
     "metadata": {},
     "output_type": "display_data"
    },
    {
     "name": "stdout",
     "output_type": "stream",
     "text": [
      "Com base na pequena amostra nota-se que tanto MLS como AV nunca escolhem a acção Peer, e escolhem a acção A ou B desde que a probabilidade destes seja maior que 0.5\n",
      "Para Q-MDP nota-se que quando a probabilidade é igual para ambos os estados a heurística prefere fazer Peer.\n",
      "Comparando com a Optimal Policy, a heurística Q-MDP é a que se aproxima mais à Optimal Policy pois quando a probabilidade é igual para ambos os estados a heurística faz Peer que é aquilo que a Optimal Policy recomenda.\n"
     ]
    }
   ],
   "source": [
    "b_map = [x[1] for x in beliefs]\n",
    "#print(b_map)\n",
    "\n",
    "\n",
    "plt.plot(b_map, mls, '*') #, bins=10, normed=1, rwidth=0.5, range=[-0.5, 9.5])\n",
    "plt.title(\"MLS\")\n",
    "plt.xlabel(\"P(X=B)\")\n",
    "plt.ylabel(\"Actions\")\n",
    "plt.show()\n",
    "\n",
    "\n",
    "plt.plot(b_map, av, '*') #, bins=10, normed=1, rwidth=0.5, range=[-0.5, 9.5])\n",
    "plt.title(\"AV\")\n",
    "plt.xlabel(\"P(X=B)\")\n",
    "plt.ylabel(\"Actions\")\n",
    "plt.show()\n",
    "\n",
    "\n",
    "plt.plot(b_map, q_mdp, '*') #, bins=10, normed=1, rwidth=0.5, range=[-0.5, 9.5])\n",
    "plt.title(\"Q-MDP\")\n",
    "plt.xlabel(\"P(X=B)\")\n",
    "plt.ylabel(\"Actions\")\n",
    "plt.show()\n",
    "\n",
    "\n",
    "print(\"Com base na pequena amostra nota-se que tanto MLS como AV nunca escolhem a acção Peer, e escolhem a acção A ou B desde que a probabilidade destes seja maior que 0.5\")\n",
    "print(\"Para Q-MDP nota-se que quando a probabilidade é igual para ambos os estados a heurística prefere fazer Peer.\")\n",
    "print(\"Comparando com a Optimal Policy, a heurística Q-MDP é a que se aproxima mais à Optimal Policy pois quando a probabilidade é igual para ambos os estados a heurística faz Peer que é aquilo que a Optimal Policy recomenda.\")"
   ]
  },
  {
   "cell_type": "code",
   "execution_count": null,
   "metadata": {
    "collapsed": true
   },
   "outputs": [],
   "source": []
  }
 ],
 "metadata": {
  "celltoolbar": "Raw Cell Format",
  "kernelspec": {
   "display_name": "Python 3",
   "language": "python",
   "name": "python3"
  },
  "language_info": {
   "codemirror_mode": {
    "name": "ipython",
    "version": 3
   },
   "file_extension": ".py",
   "mimetype": "text/x-python",
   "name": "python",
   "nbconvert_exporter": "python",
   "pygments_lexer": "ipython3",
   "version": "3.6.0"
  }
 },
 "nbformat": 4,
 "nbformat_minor": 2
}
